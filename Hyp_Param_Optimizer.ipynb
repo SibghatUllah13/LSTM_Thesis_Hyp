{
 "cells": [
  {
   "cell_type": "code",
   "execution_count": 1,
   "metadata": {},
   "outputs": [],
   "source": [
    "# --- Load GPyOpt\n",
    "from GPyOpt.methods import BayesianOptimization\n",
    "import Utils\n",
    "import Optimizer as opt\n",
    "import NeuralNetworks as Net\n",
    "import torch \n",
    "import torch.nn as nn\n",
    "import torchvision\n",
    "import torchvision.transforms as transforms\n",
    "import os\n",
    "import numpy as np\n",
    "import matplotlib.pyplot as plt\n",
    "import pandas as pd\n",
    "import random"
   ]
  },
  {
   "cell_type": "code",
   "execution_count": 2,
   "metadata": {},
   "outputs": [],
   "source": [
    "def Hyp_Optim_SCA(array):\n",
    "    \"\"\" Function to Obtain the Hyper Parameter Optimization \"\"\"\n",
    "    \n",
    "    C = 0.001\n",
    "    SSE = 0.0\n",
    "    rho_eps = 0.0\n",
    "    SS,rho, tau  = array[0]\n",
    "    #initialize\n",
    "    device,sequence_length,input_size,hidden_size,num_layers,num_classes,batch_size = Utils.init_hyper_param()\n",
    "    train = torchvision.datasets.MNIST(root=\"C://Users//conne//Master Thesis\",train=True, transform=transforms.ToTensor())\n",
    "    \n",
    "    print ('Training Started')\n",
    "    #train the NN\n",
    "    iters=600\n",
    "    #loss_history = torch.zeros(iters)\n",
    "    #Initialize the Neural Network to the Same Point with normal distribution\n",
    "    lstm_model,parameters = Net.random_initialization_neural_networks(input_size,hidden_size,num_layers,num_classes,device)\n",
    "    #Apply SCA Ridge and Optimize the model\n",
    "    final_lstm,err_lstm,grad_lstm,message = opt.sca_ridge(lstm_model,parameters,train,batch_size,sequence_length,input_size,max_it=iters,\n",
    "                                                      step_size=2**SS,C=C,tau=2**tau,rho_eps=rho_eps,step_size_eps=SSE,rho=2**rho)\n",
    "    \n",
    "    print ('Calculating Valid Accuracy')\n",
    "    \n",
    "    if 'Singular matrix' in message:\n",
    "        print ('Accuracy is zero, Singular Matrix')\n",
    "        return 0.0\n",
    "    else:\n",
    "        #cal accuracy on test data set\n",
    "        acc = Utils.Valid_Accuracy(final_lstm,train,batch_size,sequence_length,input_size)\n",
    "        print ('Accuracy is :',acc, '%')\n",
    "        return acc\n",
    "    \n",
    "    \n",
    "def Hyp_Optim_Adam(array):\n",
    "    \"\"\" Function to Obtain the Hyper Parameter Optimization \"\"\"\n",
    "    \n",
    "    C = 0.001\n",
    "    SS,b_1,b_2,eps_  = array[0]\n",
    "    #initialize\n",
    "    device,sequence_length,input_size,hidden_size,num_layers,num_classes,batch_size = Utils.init_hyper_param()\n",
    "    train = torchvision.datasets.MNIST(root=\"C://Users//conne//Master Thesis\",train=True, transform=transforms.ToTensor())\n",
    "    \n",
    "    print ('Training Started')\n",
    "    #train the NN\n",
    "    iters=600\n",
    "    #loss_history = torch.zeros(iters)\n",
    "    #Initialize the Neural Network to the Same Point with normal distribution\n",
    "    lstm_model,parameters = Net.random_initialization_neural_networks(input_size,hidden_size,num_layers,num_classes,device)\n",
    "    #Apply SCA Ridge and Optimize the model\n",
    "    final_lstm,err_lstm,grad_lstm = opt.adam(lstm_model,train,parameters,batch_size,sequence_length,input_size,max_it=iters,\n",
    "                                                      step_size=SS,b1=b_1,b2=b_2,eps=eps_,C=C)\n",
    "    \n",
    "    print ('Calculating Valid Accuracy')\n",
    "    #cal accuracy on test data set\n",
    "    acc = Utils.Valid_Accuracy(final_lstm,train,batch_size,sequence_length,input_size)\n",
    "    print ('Accuracy is :',acc, '%')\n",
    "    return acc"
   ]
  },
  {
   "cell_type": "code",
   "execution_count": null,
   "metadata": {},
   "outputs": [
    {
     "name": "stdout",
     "output_type": "stream",
     "text": [
      "Training Started\n",
      "Calculating Valid Accuracy\n",
      "Accuracy is : 51.93 %\n",
      "Training Started\n",
      "Calculating Valid Accuracy\n",
      "Accuracy is : 58.41 %\n",
      "Training Started\n"
     ]
    }
   ],
   "source": [
    "'''\n",
    "Set Up for Hyper Parameter Optimization of SCA\n",
    "'''\n",
    "domain = [{'name': 'SS', 'type': 'continuous', 'domain': (-10,10)},\n",
    "          {'name': 'rho', 'type': 'continuous', 'domain': (-10,10)},\n",
    "          {'name': 'tau', 'type': 'continuous', 'domain': (-10,10)}\n",
    "          ]\n",
    "inp = np.array([-3.65240772, -0.72593248, -5.28125507,\n",
    "               -0.5145731728297583 , -0.15200309344504997, -2.321928094887362]).reshape(2,3)\n",
    "out = np.array([82.17,76.37]).reshape(2,1)\n",
    "myBopt = BayesianOptimization(f=Hyp_Optim_SCA, domain=domain , model_type='GP' , X=inp, Y=out, maximize=True )\n",
    "myBopt.run_optimization(max_iter=20)"
   ]
  },
  {
   "cell_type": "code",
   "execution_count": null,
   "metadata": {},
   "outputs": [],
   "source": [
    "#5,06"
   ]
  },
  {
   "cell_type": "code",
   "execution_count": 93,
   "metadata": {},
   "outputs": [
    {
     "name": "stdout",
     "output_type": "stream",
     "text": [
      "Training Started\n",
      "Calculating Valid Accuracy\n",
      "Accuracy is : 82.17 %\n"
     ]
    },
    {
     "data": {
      "text/plain": [
       "82.17"
      ]
     },
     "execution_count": 93,
     "metadata": {},
     "output_type": "execute_result"
    }
   ],
   "source": [
    "Hyp_Optim_SCA(inp)"
   ]
  },
  {
   "cell_type": "code",
   "execution_count": null,
   "metadata": {},
   "outputs": [],
   "source": [
    "#Max Accuracy on Test Score, SCA: 82 %, Adam, 84 %"
   ]
  },
  {
   "cell_type": "code",
   "execution_count": null,
   "metadata": {},
   "outputs": [],
   "source": []
  },
  {
   "cell_type": "code",
   "execution_count": 39,
   "metadata": {},
   "outputs": [
    {
     "name": "stdout",
     "output_type": "stream",
     "text": [
      "Training Started\n",
      "Calculating Valid Accuracy\n",
      "Accuracy is : 58.04 %\n",
      "Training Started\n",
      "Calculating Valid Accuracy\n",
      "Accuracy is : 54.87 %\n",
      "Training Started\n",
      "Calculating Valid Accuracy\n",
      "Accuracy is : 56.45 %\n",
      "Training Started\n",
      "Calculating Valid Accuracy\n",
      "Accuracy is : 67.62 %\n",
      "Training Started\n",
      "Calculating Valid Accuracy\n",
      "Accuracy is : 51.56 %\n",
      "Training Started\n",
      "Calculating Valid Accuracy\n",
      "Accuracy is : 58.89 %\n",
      "Training Started\n",
      "Calculating Valid Accuracy\n",
      "Accuracy is : 53.27 %\n",
      "Training Started\n",
      "Calculating Valid Accuracy\n",
      "Accuracy is : 42.84 %\n",
      "Training Started\n",
      "Calculating Valid Accuracy\n",
      "Accuracy is : 54.98 %\n",
      "Training Started\n",
      "Calculating Valid Accuracy\n",
      "Accuracy is : 45.87 %\n",
      "Training Started\n",
      "Calculating Valid Accuracy\n",
      "Accuracy is : 40.25 %\n",
      "Training Started\n",
      "Calculating Valid Accuracy\n",
      "Accuracy is : 33.77 %\n",
      "Training Started\n",
      "Calculating Valid Accuracy\n",
      "Accuracy is : 38.9 %\n",
      "Training Started\n",
      "Calculating Valid Accuracy\n",
      "Accuracy is : 32.94 %\n",
      "Training Started\n",
      "Calculating Valid Accuracy\n",
      "Accuracy is : 36.76 %\n",
      "Training Started\n",
      "Calculating Valid Accuracy\n",
      "Accuracy is : 29.63 %\n",
      "Training Started\n",
      "Calculating Valid Accuracy\n",
      "Accuracy is : 32.33 %\n",
      "Training Started\n",
      "Calculating Valid Accuracy\n",
      "Accuracy is : 37.58 %\n",
      "Training Started\n",
      "Calculating Valid Accuracy\n",
      "Accuracy is : 38.16 %\n",
      "Training Started\n",
      "Calculating Valid Accuracy\n",
      "Accuracy is : 31.26 %\n",
      "Training Started\n",
      "Calculating Valid Accuracy\n",
      "Accuracy is : 24.1 %\n",
      "Training Started\n",
      "Calculating Valid Accuracy\n",
      "Accuracy is : 52.21 %\n",
      "Training Started\n",
      "Calculating Valid Accuracy\n",
      "Accuracy is : 20.12 %\n",
      "Training Started\n",
      "Calculating Valid Accuracy\n",
      "Accuracy is : 34.03 %\n",
      "Training Started\n",
      "Calculating Valid Accuracy\n",
      "Accuracy is : 56.29 %\n",
      "Training Started\n",
      "Calculating Valid Accuracy\n",
      "Accuracy is : 10.36 %\n",
      "Training Started\n",
      "Calculating Valid Accuracy\n",
      "Accuracy is : 19.51 %\n",
      "Training Started\n",
      "Calculating Valid Accuracy\n",
      "Accuracy is : 39.82 %\n",
      "Training Started\n",
      "Calculating Valid Accuracy\n",
      "Accuracy is : 41.45 %\n",
      "Training Started\n",
      "Calculating Valid Accuracy\n",
      "Accuracy is : 32.25 %\n",
      "Training Started\n",
      "Calculating Valid Accuracy\n",
      "Accuracy is : 10.51 %\n",
      "Training Started\n",
      "Calculating Valid Accuracy\n",
      "Accuracy is : 24.57 %\n",
      "Training Started\n",
      "Calculating Valid Accuracy\n",
      "Accuracy is : 9.45 %\n",
      "Training Started\n",
      "Calculating Valid Accuracy\n",
      "Accuracy is : 49.98 %\n",
      "Training Started\n",
      "Calculating Valid Accuracy\n",
      "Accuracy is : 10.79 %\n",
      "Training Started\n",
      "Calculating Valid Accuracy\n",
      "Accuracy is : 10.54 %\n",
      "Training Started\n",
      "Calculating Valid Accuracy\n",
      "Accuracy is : 9.32 %\n",
      "Training Started\n",
      "Calculating Valid Accuracy\n",
      "Accuracy is : 53.27 %\n",
      "Training Started\n",
      "Calculating Valid Accuracy\n",
      "Accuracy is : 45.96 %\n",
      "Training Started\n",
      "Calculating Valid Accuracy\n",
      "Accuracy is : 35.53 %\n",
      "Training Started\n",
      "Calculating Valid Accuracy\n",
      "Accuracy is : 33.29 %\n",
      "Training Started\n",
      "Calculating Valid Accuracy\n",
      "Accuracy is : 37.72 %\n",
      "Training Started\n",
      "Calculating Valid Accuracy\n",
      "Accuracy is : 16.67 %\n",
      "Training Started\n",
      "Calculating Valid Accuracy\n",
      "Accuracy is : 10.88 %\n",
      "Training Started\n",
      "Calculating Valid Accuracy\n",
      "Accuracy is : 39.29 %\n",
      "Training Started\n",
      "Calculating Valid Accuracy\n",
      "Accuracy is : 56.91 %\n",
      "Training Started\n",
      "Calculating Valid Accuracy\n",
      "Accuracy is : 38.75 %\n",
      "Training Started\n",
      "Calculating Valid Accuracy\n",
      "Accuracy is : 48.14 %\n",
      "Training Started\n",
      "Calculating Valid Accuracy\n",
      "Accuracy is : 58.95 %\n",
      "Training Started\n",
      "Calculating Valid Accuracy\n",
      "Accuracy is : 39.86 %\n"
     ]
    }
   ],
   "source": [
    "'''\n",
    "Set Up for Hyper Parameter Optimization of Adam\n",
    "'''\n",
    "domain = [{'name': 'SS', 'type': 'continuous', 'domain': (-10,10)},\n",
    "          {'name': 'b1', 'type': 'continuous', 'domain': (0,1)},\n",
    "          {'name': 'b2', 'type': 'continuous', 'domain': (0,1)},\n",
    "          {'name': 'eps', 'type': 'continuous', 'domain': (-10,10)}\n",
    "          ]\n",
    "inp_adam = np.array([0.01,0.9,0.999,10**-8,4.05234227, \n",
    "                     0.70149578, 0.65954886, 0.42508586,\n",
    "                     0.05,0.95,0.9,10**-7,\n",
    "                    3.34193507, 0.43180648, 0.30817403, 0.39198932,\n",
    "                    5.21584742, 0.64755972, 0.0, 0.60235577]).reshape(5,4)\n",
    "out_adam = np.array([82.9,70.73,69.0,67.62,70.25]).reshape(5,1)\n",
    "myBopt = BayesianOptimization(f=Hyp_Optim_Adam, domain=domain , model_type='GP' , X=inp_adam, Y=out_adam, maximize=True )\n",
    "myBopt.run_optimization(max_iter=50)"
   ]
  },
  {
   "cell_type": "code",
   "execution_count": 77,
   "metadata": {},
   "outputs": [],
   "source": [
    "inp_adam = np.array([0.012,0.9,0.999,10**-8]).reshape(1,4)"
   ]
  },
  {
   "cell_type": "code",
   "execution_count": 79,
   "metadata": {},
   "outputs": [
    {
     "name": "stdout",
     "output_type": "stream",
     "text": [
      "Training Started\n",
      "Calculating Valid Accuracy\n",
      "Accuracy is : 84.18 %\n"
     ]
    },
    {
     "data": {
      "text/plain": [
       "84.18"
      ]
     },
     "execution_count": 79,
     "metadata": {},
     "output_type": "execute_result"
    }
   ],
   "source": [
    "Hyp_Optim_Adam(inp_adam)"
   ]
  },
  {
   "cell_type": "code",
   "execution_count": null,
   "metadata": {},
   "outputs": [],
   "source": []
  },
  {
   "cell_type": "code",
   "execution_count": null,
   "metadata": {},
   "outputs": [],
   "source": []
  },
  {
   "cell_type": "code",
   "execution_count": 7,
   "metadata": {},
   "outputs": [],
   "source": []
  },
  {
   "cell_type": "code",
   "execution_count": null,
   "metadata": {},
   "outputs": [],
   "source": []
  },
  {
   "cell_type": "code",
   "execution_count": null,
   "metadata": {},
   "outputs": [],
   "source": []
  },
  {
   "cell_type": "code",
   "execution_count": null,
   "metadata": {},
   "outputs": [],
   "source": []
  },
  {
   "cell_type": "code",
   "execution_count": null,
   "metadata": {},
   "outputs": [],
   "source": []
  },
  {
   "cell_type": "code",
   "execution_count": null,
   "metadata": {},
   "outputs": [],
   "source": []
  },
  {
   "cell_type": "code",
   "execution_count": null,
   "metadata": {},
   "outputs": [],
   "source": []
  },
  {
   "cell_type": "code",
   "execution_count": null,
   "metadata": {},
   "outputs": [],
   "source": []
  },
  {
   "cell_type": "code",
   "execution_count": null,
   "metadata": {},
   "outputs": [],
   "source": []
  },
  {
   "cell_type": "code",
   "execution_count": 51,
   "metadata": {},
   "outputs": [],
   "source": []
  },
  {
   "cell_type": "code",
   "execution_count": 2,
   "metadata": {},
   "outputs": [],
   "source": []
  },
  {
   "cell_type": "code",
   "execution_count": null,
   "metadata": {},
   "outputs": [],
   "source": []
  },
  {
   "cell_type": "code",
   "execution_count": null,
   "metadata": {},
   "outputs": [],
   "source": []
  },
  {
   "cell_type": "code",
   "execution_count": null,
   "metadata": {},
   "outputs": [],
   "source": []
  },
  {
   "cell_type": "code",
   "execution_count": null,
   "metadata": {},
   "outputs": [],
   "source": []
  },
  {
   "cell_type": "code",
   "execution_count": null,
   "metadata": {},
   "outputs": [],
   "source": []
  }
 ],
 "metadata": {
  "kernelspec": {
   "display_name": "Python 3",
   "language": "python",
   "name": "python3"
  },
  "language_info": {
   "codemirror_mode": {
    "name": "ipython",
    "version": 3
   },
   "file_extension": ".py",
   "mimetype": "text/x-python",
   "name": "python",
   "nbconvert_exporter": "python",
   "pygments_lexer": "ipython3",
   "version": "3.6.4"
  }
 },
 "nbformat": 4,
 "nbformat_minor": 2
}
